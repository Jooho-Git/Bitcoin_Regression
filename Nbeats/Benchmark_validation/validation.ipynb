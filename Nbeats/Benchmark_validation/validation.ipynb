{
  "nbformat": 4,
  "nbformat_minor": 0,
  "metadata": {
    "colab": {
      "name": "Benchmark_data_validation.ipynb",
      "provenance": [],
      "collapsed_sections": []
    },
    "kernelspec": {
      "name": "python3",
      "display_name": "Python 3"
    },
    "language_info": {
      "name": "python"
    }
  },
  "cells": [
    {
      "cell_type": "markdown",
      "source": [
        "# Benchmark Dataset을 통한 Nbeats 모델 성능 검증"
      ],
      "metadata": {
        "id": "InmfpsSDcIDx"
      }
    },
    {
      "cell_type": "markdown",
      "source": [
        "## Install packages"
      ],
      "metadata": {
        "id": "DuNja61IcfWM"
      }
    },
    {
      "cell_type": "code",
      "source": [
        "from google.colab import drive\n",
        "drive.mount('/content/drive')"
      ],
      "metadata": {
        "colab": {
          "base_uri": "https://localhost:8080/"
        },
        "id": "QMtS4SAI1tcx",
        "outputId": "fa72db6c-d81e-49fc-92b7-f0233f61e07f"
      },
      "execution_count": null,
      "outputs": [
        {
          "output_type": "stream",
          "name": "stdout",
          "text": [
            "Drive already mounted at /content/drive; to attempt to forcibly remount, call drive.mount(\"/content/drive\", force_remount=True).\n"
          ]
        }
      ]
    },
    {
      "cell_type": "code",
      "source": [
        "! pip install -U kaleido\n",
        "! pip install psutil\n",
        "! pip install utils\n",
        "! conda install -c plotly plotly-orca psutil"
      ],
      "metadata": {
        "colab": {
          "base_uri": "https://localhost:8080/"
        },
        "id": "WYHhe5OQmE2S",
        "outputId": "d3e3abf9-4a36-4c08-c1c0-fab8d4ad1f94"
      },
      "execution_count": null,
      "outputs": [
        {
          "output_type": "stream",
          "name": "stdout",
          "text": [
            "Looking in indexes: https://pypi.org/simple, https://us-python.pkg.dev/colab-wheels/public/simple/\n",
            "Requirement already satisfied: kaleido in /usr/local/lib/python3.7/dist-packages (0.2.1)\n",
            "Looking in indexes: https://pypi.org/simple, https://us-python.pkg.dev/colab-wheels/public/simple/\n",
            "Requirement already satisfied: psutil in /usr/local/lib/python3.7/dist-packages (5.4.8)\n",
            "Looking in indexes: https://pypi.org/simple, https://us-python.pkg.dev/colab-wheels/public/simple/\n",
            "Requirement already satisfied: utils in /usr/local/lib/python3.7/dist-packages (1.0.1)\n",
            "/bin/bash: conda: command not found\n"
          ]
        }
      ]
    },
    {
      "cell_type": "code",
      "execution_count": null,
      "metadata": {
        "id": "ytWHEShqaxlq"
      },
      "outputs": [],
      "source": [
        "%matplotlib inline\n",
        "import warnings\n",
        "\n",
        "import matplotlib.pyplot as plt\n",
        "import numpy as np\n",
        "import pandas as pd\n",
        "import torch\n",
        "from torch import optim\n",
        "from torch.nn import functional as F\n",
        "import os\n",
        "\n",
        "# from nbeats_pytorch.model import NBeatsNet\n",
        "# from trainer_pytorch import save\n",
        "\n",
        "warnings.filterwarnings(action='ignore', message='Setting attributes')\n",
        "from progressbar import *\n",
        "import plotly.express as px\n",
        "import plotly.io as pio\n",
        "import kaleido\n",
        "from plotly.subplots import make_subplots\n",
        "import plotly.graph_objects as go\n",
        "from scipy.stats import norm\n",
        "from scipy.stats import t"
      ]
    },
    {
      "cell_type": "markdown",
      "source": [
        "## Nbeats model"
      ],
      "metadata": {
        "id": "aFFrvR5sedsQ"
      }
    },
    {
      "cell_type": "code",
      "source": [
        "# Model Class\n",
        "import pickle\n",
        "import random\n",
        "import numpy as np\n",
        "import torch\n",
        "from torch import nn, optim\n",
        "from torch.nn import functional as F\n",
        "from torch.optim import Optimizer\n",
        "\n",
        "class NBeatsNet(nn.Module):\n",
        "    SEASONALITY_BLOCK = 'seasonality'\n",
        "    TREND_BLOCK = 'trend'\n",
        "    GENERIC_BLOCK = 'generic'\n",
        "\n",
        "    def __init__(self,\n",
        "                 device=torch.device('cpu'),\n",
        "                 stack_types=(TREND_BLOCK, SEASONALITY_BLOCK),\n",
        "                 nb_blocks_per_stack=3,\n",
        "                 forecast_length=5,\n",
        "                 backcast_length=10,\n",
        "                 thetas_dim=(4, 8),\n",
        "                 share_weights_in_stack=False,\n",
        "                 hidden_layer_units=256,\n",
        "                 nb_harmonics=None,\n",
        "                 dropout_rate=0.3):\n",
        "        super(NBeatsNet, self).__init__()\n",
        "        self.forecast_length = forecast_length\n",
        "        self.backcast_length = backcast_length\n",
        "        self.hidden_layer_units = hidden_layer_units\n",
        "        self.nb_blocks_per_stack = nb_blocks_per_stack\n",
        "        self.share_weights_in_stack = share_weights_in_stack\n",
        "        self.nb_harmonics = nb_harmonics\n",
        "        self.dropout_rate = dropout_rate\n",
        "        self.stack_types = stack_types\n",
        "        self.stacks = []\n",
        "        self.thetas_dim = thetas_dim\n",
        "        self.parameters = []\n",
        "        self.device = device\n",
        "        print('| N-Beats')\n",
        "        for stack_id in range(len(self.stack_types)):\n",
        "            self.stacks.append(self.create_stack(stack_id))\n",
        "        self.parameters = nn.ParameterList(self.parameters)\n",
        "        self.to(self.device)\n",
        "        self._loss = None\n",
        "        self._opt = None\n",
        "\n",
        "    def create_stack(self, stack_id):\n",
        "        stack_type = self.stack_types[stack_id]\n",
        "        print(f'| --  Stack {stack_type.title()} (#{stack_id}) (share_weights_in_stack={self.share_weights_in_stack})')\n",
        "        blocks = []\n",
        "        for block_id in range(self.nb_blocks_per_stack):\n",
        "            block_init = NBeatsNet.select_block(stack_type)\n",
        "            if self.share_weights_in_stack and block_id != 0:\n",
        "                block = blocks[-1]  # pick up the last one when we share weights.\n",
        "            else:\n",
        "                block = block_init(self.hidden_layer_units, self.thetas_dim[stack_id],\n",
        "                                   self.device, self.backcast_length, self.forecast_length, self.nb_harmonics)\n",
        "                self.parameters.extend(block.parameters())\n",
        "            print(f'     | -- {block}')\n",
        "            blocks.append(block)\n",
        "        return blocks\n",
        "\n",
        "    def save(self, filename: str):\n",
        "        torch.save(self, filename)\n",
        "\n",
        "    @staticmethod\n",
        "    def load(f, map_location=None, pickle_module=pickle, **pickle_load_args):\n",
        "        return torch.load(f, map_location, pickle_module, **pickle_load_args)\n",
        "\n",
        "    @staticmethod\n",
        "    def select_block(block_type):\n",
        "        if block_type == NBeatsNet.SEASONALITY_BLOCK:\n",
        "            return SeasonalityBlock\n",
        "        elif block_type == NBeatsNet.TREND_BLOCK:\n",
        "            return TrendBlock\n",
        "        else:\n",
        "            return GenericBlock\n",
        "\n",
        "\n",
        "    def forward(self, backcast):\n",
        "        backcast = squeeze_last_dim(backcast)\n",
        "        forecast = torch.zeros(size=(backcast.size()[0], self.forecast_length,))  # maybe batch size here.\n",
        "        \n",
        "        trend_forecast = torch.zeros(size=(backcast.size()[0], self.forecast_length,))\n",
        "        seasonal_forecast = torch.zeros(size=(backcast.size()[0], self.forecast_length,))\n",
        "\n",
        "        for stack_id in range(len(self.stacks)):\n",
        "            for block_id in range(len(self.stacks[stack_id])):\n",
        "                b, f = self.stacks[stack_id][block_id](backcast)\n",
        "                backcast = backcast.to(self.device) - b\n",
        "                forecast = forecast.to(self.device) + f\n",
        "                if type(self.stacks[stack_id][block_id]).__name__ == 'TrendBlock':\n",
        "                    trend_forecast = trend_forecast.to(self.device) + f\n",
        "                elif type(self.stacks[stack_id][block_id]).__name__ == 'SeasonalityBlock':\n",
        "                    seasonal_forecast = seasonal_forecast.to(self.device) + f\n",
        "\n",
        "        return backcast, forecast, trend_forecast, seasonal_forecast\n",
        "\n",
        "\n",
        "def squeeze_last_dim(tensor):\n",
        "    if len(tensor.shape) == 3 and tensor.shape[-1] == 1:  # (128, 10, 1) => (128, 10).\n",
        "        return tensor[..., 0]\n",
        "    return tensor\n",
        "\n",
        "\n",
        "def seasonality_model(thetas, t, device):\n",
        "    p = thetas.size()[-1]\n",
        "    assert p <= thetas.shape[1], 'thetas_dim is too big.'\n",
        "    p1, p2 = (p // 2, p // 2) if p % 2 == 0 else (p // 2, p // 2 + 1)\n",
        "    s1 = torch.tensor([np.cos(2 * np.pi * i * t) for i in range(p1)]).float()  # H/2-1\n",
        "    s2 = torch.tensor([np.sin(2 * np.pi * i * t) for i in range(p2)]).float()\n",
        "    S = torch.cat([s1, s2])\n",
        "    return thetas.mm(S.to(device))\n",
        "\n",
        "\n",
        "def trend_model(thetas, t, device):\n",
        "    p = thetas.size()[-1]\n",
        "    assert p <= 4, 'thetas_dim is too big.'\n",
        "    T = torch.tensor([t ** i for i in range(p)]).float()\n",
        "    return thetas.mm(T.to(device))\n",
        "\n",
        "\n",
        "def linear_space(backcast_length, forecast_length, is_forecast=True):\n",
        "    horizon = forecast_length if is_forecast else backcast_length\n",
        "    return np.arange(0, horizon) / horizon\n",
        "\n",
        "\n",
        "class Block(nn.Module):\n",
        "\n",
        "    def __init__(self, units, thetas_dim, device, backcast_length=10, forecast_length=5, share_thetas=False,\n",
        "                 nb_harmonics=None, dropout_rate=0.2):\n",
        "        super(Block, self).__init__()\n",
        "        self.units = units\n",
        "        self.thetas_dim = thetas_dim\n",
        "        self.backcast_length = backcast_length\n",
        "        self.forecast_length = forecast_length\n",
        "        self.share_thetas = share_thetas\n",
        "        self.fc1 = nn.Linear(backcast_length, units)\n",
        "        self.fc2 = nn.Linear(units, units)\n",
        "        self.fc3 = nn.Linear(units, units)\n",
        "        self.fc4 = nn.Linear(units, units)\n",
        "        self.dropout = nn.Dropout(dropout_rate)  # dropout 추가 => 랜덤성 부여 효과를 볼 수 있음.  \n",
        "        self.device = device\n",
        "        self.backcast_linspace = linear_space(backcast_length, forecast_length, is_forecast=False)\n",
        "        self.forecast_linspace = linear_space(backcast_length, forecast_length, is_forecast=True)\n",
        "        if share_thetas:\n",
        "            self.theta_f_fc = self.theta_b_fc = nn.Linear(units, thetas_dim, bias=False)\n",
        "        else:\n",
        "            self.theta_b_fc = nn.Linear(units, thetas_dim, bias=False)\n",
        "            self.theta_f_fc = nn.Linear(units, thetas_dim, bias=False)\n",
        "\n",
        "    def forward(self, x):\n",
        "        x = squeeze_last_dim(x)\n",
        "        x = F.relu(self.fc1(x.to(self.device))) \n",
        "        x = F.relu(self.fc2(x))\n",
        "        x = self.dropout(x)  # add dropout \n",
        "        x = F.relu(self.fc3(x))\n",
        "        x = self.dropout(x)\n",
        "        x = F.relu(self.fc4(x))\n",
        "        return x\n",
        "\n",
        "    def __str__(self):\n",
        "        block_type = type(self).__name__\n",
        "        return f'{block_type}(units={self.units}, thetas_dim={self.thetas_dim}, ' \\\n",
        "               f'backcast_length={self.backcast_length}, forecast_length={self.forecast_length}, ' \\\n",
        "               f'share_thetas={self.share_thetas}) at @{id(self)}'\n",
        "\n",
        "\n",
        "class SeasonalityBlock(Block):\n",
        "\n",
        "    def __init__(self, units, thetas_dim, device, backcast_length=10, forecast_length=5, nb_harmonics=None):\n",
        "        if nb_harmonics:\n",
        "            super(SeasonalityBlock, self).__init__(units, nb_harmonics, device, backcast_length,\n",
        "                                                   forecast_length, share_thetas=True)\n",
        "        else:\n",
        "            super(SeasonalityBlock, self).__init__(units, forecast_length, device, backcast_length,\n",
        "                                                   forecast_length, share_thetas=True)\n",
        "\n",
        "    def forward(self, x):\n",
        "        x = super(SeasonalityBlock, self).forward(x)\n",
        "        backcast = seasonality_model(self.theta_b_fc(x), self.backcast_linspace, self.device)\n",
        "        forecast = seasonality_model(self.theta_f_fc(x), self.forecast_linspace, self.device)\n",
        "        return backcast, forecast\n",
        "\n",
        "\n",
        "class TrendBlock(Block):\n",
        "\n",
        "    def __init__(self, units, thetas_dim, device, backcast_length=10, forecast_length=5, nb_harmonics=None):\n",
        "        super(TrendBlock, self).__init__(units, thetas_dim, device, backcast_length,\n",
        "                                         forecast_length, share_thetas=True)\n",
        "\n",
        "    def forward(self, x):\n",
        "        x = super(TrendBlock, self).forward(x)\n",
        "        backcast = trend_model(self.theta_b_fc(x), self.backcast_linspace, self.device)\n",
        "        forecast = trend_model(self.theta_f_fc(x), self.forecast_linspace, self.device)\n",
        "        return backcast, forecast\n",
        "\n",
        "\n",
        "class GenericBlock(Block):\n",
        "\n",
        "    def __init__(self, units, thetas_dim, device, backcast_length=10, forecast_length=5, nb_harmonics=None):\n",
        "        super(GenericBlock, self).__init__(units, thetas_dim, device, backcast_length, forecast_length)\n",
        "\n",
        "        self.backcast_fc = nn.Linear(thetas_dim, backcast_length)\n",
        "        self.forecast_fc = nn.Linear(thetas_dim, forecast_length)\n",
        "\n",
        "    def forward(self, x):\n",
        "        # no constraint for generic arch.\n",
        "        x = super(GenericBlock, self).forward(x)\n",
        "\n",
        "        theta_b = self.theta_b_fc(x)\n",
        "        theta_f = self.theta_f_fc(x)\n",
        "\n",
        "        backcast = self.backcast_fc(theta_b)  # generic. 3.3.\n",
        "        forecast = self.forecast_fc(theta_f)  # generic. 3.3.\n",
        "\n",
        "        return backcast, forecast"
      ],
      "metadata": {
        "id": "MU4xsAAEfJcg"
      },
      "execution_count": null,
      "outputs": []
    },
    {
      "cell_type": "markdown",
      "source": [
        "# Birth Data set"
      ],
      "metadata": {
        "id": "PVS1bwcz5_Hd"
      }
    },
    {
      "cell_type": "markdown",
      "source": [
        "## Data Preprocessing"
      ],
      "metadata": {
        "id": "uxUn9Sm5WeCj"
      }
    },
    {
      "cell_type": "code",
      "source": [
        "data = pd.read_csv('/content/drive/MyDrive/2022 컨퍼/benchmark_data/benchmark_Births.csv', header=0)\n",
        "data = data[['Date', 'Births']]\n",
        "data.set_index('Date', inplace=True)\n",
        "data2 = data.copy()\n",
        "data2"
      ],
      "metadata": {
        "colab": {
          "base_uri": "https://localhost:8080/",
          "height": 455
        },
        "id": "Wr1NfsJ3nMaz",
        "outputId": "0264c42f-098a-434a-dd68-f8a737c988d7"
      },
      "execution_count": null,
      "outputs": [
        {
          "output_type": "execute_result",
          "data": {
            "text/plain": [
              "            Births\n",
              "Date              \n",
              "1959-01-01      35\n",
              "1959-01-02      32\n",
              "1959-01-03      30\n",
              "1959-01-04      31\n",
              "1959-01-05      44\n",
              "...            ...\n",
              "1959-12-27      37\n",
              "1959-12-28      52\n",
              "1959-12-29      48\n",
              "1959-12-30      55\n",
              "1959-12-31      50\n",
              "\n",
              "[365 rows x 1 columns]"
            ],
            "text/html": [
              "\n",
              "  <div id=\"df-b7d3ef9a-b83d-4e59-ab4d-a61ecc1ddd91\">\n",
              "    <div class=\"colab-df-container\">\n",
              "      <div>\n",
              "<style scoped>\n",
              "    .dataframe tbody tr th:only-of-type {\n",
              "        vertical-align: middle;\n",
              "    }\n",
              "\n",
              "    .dataframe tbody tr th {\n",
              "        vertical-align: top;\n",
              "    }\n",
              "\n",
              "    .dataframe thead th {\n",
              "        text-align: right;\n",
              "    }\n",
              "</style>\n",
              "<table border=\"1\" class=\"dataframe\">\n",
              "  <thead>\n",
              "    <tr style=\"text-align: right;\">\n",
              "      <th></th>\n",
              "      <th>Births</th>\n",
              "    </tr>\n",
              "    <tr>\n",
              "      <th>Date</th>\n",
              "      <th></th>\n",
              "    </tr>\n",
              "  </thead>\n",
              "  <tbody>\n",
              "    <tr>\n",
              "      <th>1959-01-01</th>\n",
              "      <td>35</td>\n",
              "    </tr>\n",
              "    <tr>\n",
              "      <th>1959-01-02</th>\n",
              "      <td>32</td>\n",
              "    </tr>\n",
              "    <tr>\n",
              "      <th>1959-01-03</th>\n",
              "      <td>30</td>\n",
              "    </tr>\n",
              "    <tr>\n",
              "      <th>1959-01-04</th>\n",
              "      <td>31</td>\n",
              "    </tr>\n",
              "    <tr>\n",
              "      <th>1959-01-05</th>\n",
              "      <td>44</td>\n",
              "    </tr>\n",
              "    <tr>\n",
              "      <th>...</th>\n",
              "      <td>...</td>\n",
              "    </tr>\n",
              "    <tr>\n",
              "      <th>1959-12-27</th>\n",
              "      <td>37</td>\n",
              "    </tr>\n",
              "    <tr>\n",
              "      <th>1959-12-28</th>\n",
              "      <td>52</td>\n",
              "    </tr>\n",
              "    <tr>\n",
              "      <th>1959-12-29</th>\n",
              "      <td>48</td>\n",
              "    </tr>\n",
              "    <tr>\n",
              "      <th>1959-12-30</th>\n",
              "      <td>55</td>\n",
              "    </tr>\n",
              "    <tr>\n",
              "      <th>1959-12-31</th>\n",
              "      <td>50</td>\n",
              "    </tr>\n",
              "  </tbody>\n",
              "</table>\n",
              "<p>365 rows × 1 columns</p>\n",
              "</div>\n",
              "      <button class=\"colab-df-convert\" onclick=\"convertToInteractive('df-b7d3ef9a-b83d-4e59-ab4d-a61ecc1ddd91')\"\n",
              "              title=\"Convert this dataframe to an interactive table.\"\n",
              "              style=\"display:none;\">\n",
              "        \n",
              "  <svg xmlns=\"http://www.w3.org/2000/svg\" height=\"24px\"viewBox=\"0 0 24 24\"\n",
              "       width=\"24px\">\n",
              "    <path d=\"M0 0h24v24H0V0z\" fill=\"none\"/>\n",
              "    <path d=\"M18.56 5.44l.94 2.06.94-2.06 2.06-.94-2.06-.94-.94-2.06-.94 2.06-2.06.94zm-11 1L8.5 8.5l.94-2.06 2.06-.94-2.06-.94L8.5 2.5l-.94 2.06-2.06.94zm10 10l.94 2.06.94-2.06 2.06-.94-2.06-.94-.94-2.06-.94 2.06-2.06.94z\"/><path d=\"M17.41 7.96l-1.37-1.37c-.4-.4-.92-.59-1.43-.59-.52 0-1.04.2-1.43.59L10.3 9.45l-7.72 7.72c-.78.78-.78 2.05 0 2.83L4 21.41c.39.39.9.59 1.41.59.51 0 1.02-.2 1.41-.59l7.78-7.78 2.81-2.81c.8-.78.8-2.07 0-2.86zM5.41 20L4 18.59l7.72-7.72 1.47 1.35L5.41 20z\"/>\n",
              "  </svg>\n",
              "      </button>\n",
              "      \n",
              "  <style>\n",
              "    .colab-df-container {\n",
              "      display:flex;\n",
              "      flex-wrap:wrap;\n",
              "      gap: 12px;\n",
              "    }\n",
              "\n",
              "    .colab-df-convert {\n",
              "      background-color: #E8F0FE;\n",
              "      border: none;\n",
              "      border-radius: 50%;\n",
              "      cursor: pointer;\n",
              "      display: none;\n",
              "      fill: #1967D2;\n",
              "      height: 32px;\n",
              "      padding: 0 0 0 0;\n",
              "      width: 32px;\n",
              "    }\n",
              "\n",
              "    .colab-df-convert:hover {\n",
              "      background-color: #E2EBFA;\n",
              "      box-shadow: 0px 1px 2px rgba(60, 64, 67, 0.3), 0px 1px 3px 1px rgba(60, 64, 67, 0.15);\n",
              "      fill: #174EA6;\n",
              "    }\n",
              "\n",
              "    [theme=dark] .colab-df-convert {\n",
              "      background-color: #3B4455;\n",
              "      fill: #D2E3FC;\n",
              "    }\n",
              "\n",
              "    [theme=dark] .colab-df-convert:hover {\n",
              "      background-color: #434B5C;\n",
              "      box-shadow: 0px 1px 3px 1px rgba(0, 0, 0, 0.15);\n",
              "      filter: drop-shadow(0px 1px 2px rgba(0, 0, 0, 0.3));\n",
              "      fill: #FFFFFF;\n",
              "    }\n",
              "  </style>\n",
              "\n",
              "      <script>\n",
              "        const buttonEl =\n",
              "          document.querySelector('#df-b7d3ef9a-b83d-4e59-ab4d-a61ecc1ddd91 button.colab-df-convert');\n",
              "        buttonEl.style.display =\n",
              "          google.colab.kernel.accessAllowed ? 'block' : 'none';\n",
              "\n",
              "        async function convertToInteractive(key) {\n",
              "          const element = document.querySelector('#df-b7d3ef9a-b83d-4e59-ab4d-a61ecc1ddd91');\n",
              "          const dataTable =\n",
              "            await google.colab.kernel.invokeFunction('convertToInteractive',\n",
              "                                                     [key], {});\n",
              "          if (!dataTable) return;\n",
              "\n",
              "          const docLinkHtml = 'Like what you see? Visit the ' +\n",
              "            '<a target=\"_blank\" href=https://colab.research.google.com/notebooks/data_table.ipynb>data table notebook</a>'\n",
              "            + ' to learn more about interactive tables.';\n",
              "          element.innerHTML = '';\n",
              "          dataTable['output_type'] = 'display_data';\n",
              "          await google.colab.output.renderOutput(dataTable, element);\n",
              "          const docLink = document.createElement('div');\n",
              "          docLink.innerHTML = docLinkHtml;\n",
              "          element.appendChild(docLink);\n",
              "        }\n",
              "      </script>\n",
              "    </div>\n",
              "  </div>\n",
              "  "
            ]
          },
          "metadata": {},
          "execution_count": 5
        }
      ]
    },
    {
      "cell_type": "markdown",
      "source": [
        "## Load Scaler & Model"
      ],
      "metadata": {
        "id": "QbCLKqD-WeCj"
      }
    },
    {
      "cell_type": "code",
      "source": [
        "window_size = 30\n",
        "yscaler = pickle.load(open('/content/drive/Shareddrives/[투빅스] 16기 & 17기 시계열 컨퍼런스/예측/Nbeats_benchmark/Births/scaler.pkl', 'rb'))"
      ],
      "metadata": {
        "colab": {
          "base_uri": "https://localhost:8080/"
        },
        "id": "ONQJKfwFfhrB",
        "outputId": "5a349a96-81a8-406c-8e9e-6fc0e7d109a5"
      },
      "execution_count": null,
      "outputs": [
        {
          "output_type": "stream",
          "name": "stderr",
          "text": [
            "/usr/local/lib/python3.7/dist-packages/sklearn/base.py:338: UserWarning: Trying to unpickle estimator StandardScaler from version 1.1.1 when using version 1.0.2. This might lead to breaking code or invalid results. Use at your own risk. For more info please refer to:\n",
            "https://scikit-learn.org/stable/modules/model_persistence.html#security-maintainability-limitations\n",
            "  UserWarning,\n"
          ]
        }
      ]
    },
    {
      "cell_type": "code",
      "source": [
        "model = NBeatsNet(stack_types=(NBeatsNet.TREND_BLOCK, NBeatsNet.SEASONALITY_BLOCK),\n",
        "                    forecast_length=15,\n",
        "                    backcast_length=30,\n",
        "                    hidden_layer_units=128,\n",
        "                    )\n",
        "model.load_state_dict(torch.load('/content/drive/Shareddrives/[투빅스] 16기 & 17기 시계열 컨퍼런스/예측/Nbeats_benchmark/Births/model.pth', map_location='cpu'))"
      ],
      "metadata": {
        "colab": {
          "base_uri": "https://localhost:8080/"
        },
        "id": "gNRP7LrJroo0",
        "outputId": "502be591-bcf5-43fb-d4c2-f049ad47bb58"
      },
      "execution_count": null,
      "outputs": [
        {
          "output_type": "stream",
          "name": "stdout",
          "text": [
            "| N-Beats\n",
            "| --  Stack Trend (#0) (share_weights_in_stack=False)\n",
            "     | -- TrendBlock(units=128, thetas_dim=4, backcast_length=30, forecast_length=15, share_thetas=True) at @140655480700304\n",
            "     | -- TrendBlock(units=128, thetas_dim=4, backcast_length=30, forecast_length=15, share_thetas=True) at @140655480758352\n",
            "     | -- TrendBlock(units=128, thetas_dim=4, backcast_length=30, forecast_length=15, share_thetas=True) at @140655480697296\n",
            "| --  Stack Seasonality (#1) (share_weights_in_stack=False)\n",
            "     | -- SeasonalityBlock(units=128, thetas_dim=15, backcast_length=30, forecast_length=15, share_thetas=True) at @140655480759376\n",
            "     | -- SeasonalityBlock(units=128, thetas_dim=15, backcast_length=30, forecast_length=15, share_thetas=True) at @140655486651344\n",
            "     | -- SeasonalityBlock(units=128, thetas_dim=15, backcast_length=30, forecast_length=15, share_thetas=True) at @140655486649872\n"
          ]
        },
        {
          "output_type": "execute_result",
          "data": {
            "text/plain": [
              "<All keys matched successfully>"
            ]
          },
          "metadata": {},
          "execution_count": 7
        }
      ]
    },
    {
      "cell_type": "markdown",
      "source": [
        "### Predict"
      ],
      "metadata": {
        "id": "dXfyR8Hr6NFn"
      }
    },
    {
      "cell_type": "code",
      "source": [
        "def main(sample_size, prediction_size, yscaler):\n",
        "    y_pred = np.zeros((sample_size, prediction_size))\n",
        "    trend = np.zeros((sample_size, prediction_size))\n",
        "    seasonality = np.zeros((sample_size, prediction_size))\n",
        "    for i in range(sample_size):\n",
        "        backcast, pred, trend_forecast, seasonal_forecast = model(Y)\n",
        "        pred = pred.detach().cpu().numpy()\n",
        "        trend_forecast = trend_forecast.detach().cpu().numpy()\n",
        "        seasonal_forecast = seasonal_forecast.detach().cpu().numpy()\n",
        "\n",
        "        y_pred[i,:] = yscaler.inverse_transform(pred)\n",
        "        trend[i,:] = yscaler.inverse_transform(trend_forecast)\n",
        "        seasonality[i,:] = y_pred[i,:] - trend[i,:]\n",
        "    return y_pred, trend, seasonality"
      ],
      "metadata": {
        "id": "rGAY9F7JzKUq"
      },
      "execution_count": null,
      "outputs": []
    },
    {
      "cell_type": "code",
      "source": [
        "## 신뢰구간 구축\n",
        "def confidence_interval(sample, alpha = 0.05):\n",
        "    mean = np.mean(sample, axis=0)\n",
        "    std_error = np.std(sample, axis=0)\n",
        "\n",
        "    max_interval = mean + norm.ppf(alpha/2, loc = 0, scale = 1) * std_error/np.sqrt(len(sample))\n",
        "    min_interval = mean - norm.ppf(alpha/2, loc = 0, scale = 1) * std_error/np.sqrt(len(sample))\n",
        "    \n",
        "    return mean, min_interval, max_interval"
      ],
      "metadata": {
        "id": "9GeA9sFvvLZP"
      },
      "execution_count": null,
      "outputs": []
    },
    {
      "cell_type": "code",
      "source": [
        "def plot_prediction(y_pred, trend, seasonality, start_list):\n",
        "    fig = make_subplots(\n",
        "        subplot_titles=['True Vs Predicted','Trend','Seasonality'],\n",
        "        rows=2, cols=2,\n",
        "        vertical_spacing=0.15,\n",
        "        horizontal_spacing=0.025,\n",
        "        column_widths=[0.9, 0.6],\n",
        "        row_heights=[0.8, 0.8],\n",
        "        specs=[[{\"rowspan\": 2}, {}], [None, {}]])\n",
        "            \n",
        "    # confidence interval\n",
        "    pred_mean, pred_min_interval, pred_max_interval = confidence_interval(y_pred, 0.01)\n",
        "    trend_mean, trend_min_interval, trend_max_interval = confidence_interval(trend, 0.01)\n",
        "    seasonal_mean, seasonal_min_interval, seasonal_max_interval = confidence_interval(seasonality, 0.01)\n",
        "            \n",
        "    # plot(1,1) - prediction vs real_value\n",
        "    ## CI\n",
        "    fig.add_trace(go.Scatter(name = 'Lower Bound',\n",
        "                             x = pd.period_range(start = data_tmp['Births'].index[-1], end = None, periods = 16, freq = 'D').to_timestamp(),\n",
        "                             y = np.concatenate([np.array(data.iloc[-start_num:, :]).flatten()[29].reshape(-1), pred_max_interval]),\n",
        "                             mode = 'lines',\n",
        "                             marker = dict(color=\"rgb(179,226,205)\"),\n",
        "                             line = dict(width=0),\n",
        "                             showlegend = False), row=1,col=1)\n",
        "    fig.add_trace(go.Scatter(name = 'Confidence Interval',\n",
        "                             x = pd.period_range(start = data_tmp['Births'].index[-1], end = None, periods = 16, freq = 'D').to_timestamp(),\n",
        "                             y = np.concatenate([np.array(data.iloc[-start_num:, :]).flatten()[29].reshape(-1), pred_min_interval]),\n",
        "                             marker = dict(color=\"rgb(179,226,205)\"),\n",
        "                             line = dict(width=0),\n",
        "                             mode = 'lines',\n",
        "                             fillcolor = 'rgba(179,226,205,0.6)',\n",
        "                             fill = 'tonexty',\n",
        "                             showlegend = True), row=1,col=1)\n",
        "    ## mean value\n",
        "    fig.add_trace(go.Scatter(x = pd.period_range(start = data_tmp['Births'].index[0], end = None, periods = 45, freq = 'D').to_timestamp(),\n",
        "                             y = np.array(data.iloc[-start_num:, :]).flatten(), \n",
        "                             name = \"Real value\", line=dict(color=\"#636EFA\")), row=1,col=1)\n",
        "    fig.add_trace(go.Scatter(x = pd.period_range(start = data_tmp['Births'].index[-1], end = None, periods = 16, freq = 'D').to_timestamp(), \n",
        "                             y = np.concatenate([np.array(data.iloc[-start_num:, :]).flatten()[29].reshape(-1), pred_mean]), \n",
        "                             name = \"Prediction average\", line=dict(color=\"red\")), row=1,col=1)\n",
        "            \n",
        "    # plot(1,2) - trend\n",
        "    ## CI\n",
        "    fig.add_trace(go.Scatter(name = 'Lower Bound',\n",
        "                             x = pd.period_range(start = data_tmp['Births'].index[-1], end = None, periods = 16, freq = 'D').to_timestamp()[1:],\n",
        "                             y = trend_max_interval,\n",
        "                             mode = 'lines',\n",
        "                             marker = dict(color=\"rgb(179,226,205)\"),\n",
        "                             line = dict(width=0),\n",
        "                             showlegend = False), row=1,col=2)\n",
        "    fig.add_trace(go.Scatter(name = 'Upper Bound',\n",
        "                             x = pd.period_range(start = data_tmp['Births'].index[-1], end = None, periods = 16, freq = 'D').to_timestamp()[1:],\n",
        "                             y = trend_min_interval,\n",
        "                             marker = dict(color=\"rgb(179,226,205)\"),\n",
        "                             line = dict(width=0),\n",
        "                             mode = 'lines',\n",
        "                             fillcolor = 'rgba(179,226,205,0.6)',\n",
        "                             fill = 'tonexty',\n",
        "                             showlegend = False), row=1,col=2)\n",
        "    ## mean value\n",
        "    fig.add_trace(go.Scatter(x = pd.period_range(start = data_tmp['Births'].index[-1], end = None, periods = 16, freq = 'D').to_timestamp()[1:], \n",
        "                             y = trend_mean, name = \"Trend average\", line=dict(color=\"red\"), showlegend = False), row=1,col=2)\n",
        "            \n",
        "    # plot(2,2) - seasonality\n",
        "    ## CI\n",
        "    fig.add_trace(go.Scatter(name = 'Lower Bound',\n",
        "                             x = pd.period_range(start = data_tmp['Births'].index[-1], end = None, periods = 16, freq = 'D').to_timestamp()[1:],\n",
        "                             y = seasonal_max_interval,\n",
        "                             mode = 'lines',\n",
        "                             marker = dict(color=\"rgb(179,226,205)\"),\n",
        "                             line = dict(width=0),\n",
        "                             showlegend = False), row=2,col=2)\n",
        "    fig.add_trace(go.Scatter(name = 'Upper Bound',\n",
        "                             x = pd.period_range(start = data_tmp['Births'].index[-1], end = None, periods = 16, freq = 'D').to_timestamp()[1:],\n",
        "                             y = seasonal_min_interval,\n",
        "                             marker = dict(color=\"rgb(179,226,205)\"),\n",
        "                             line = dict(width=0),\n",
        "                             mode = 'lines',\n",
        "                             fillcolor = 'rgba(179,226,205,0.6)',\n",
        "                             fill = 'tonexty',\n",
        "                             showlegend = False), row=2,col=2)\n",
        "    ## mean value\n",
        "    fig.add_trace(go.Scatter(x = pd.period_range(start = data_tmp['Births'].index[-1], end = None, periods = 16, freq = 'D').to_timestamp()[1:], \n",
        "                             y = seasonal_mean, name = \"Seasonality average\", line=dict(color=\"red\"), showlegend = False), row=2,col=2)\n",
        "    # dash line\n",
        "    full_fig = fig.full_figure_for_development()\n",
        "    fig.add_shape(type=\"line\", xref='x', yref='paper',\n",
        "                  x0=list(data_tmp['Births'].index)[-1], y0 = full_fig.layout.yaxis.range[0],\n",
        "                  x1=list(data_tmp['Births'].index)[-1], y1 = full_fig.layout.yaxis.range[1],\n",
        "                  line=dict(color=\"black\", width=1, dash=\"dash\"),row=1,col=1)\n",
        "\n",
        "    fig.update_layout(height=600, width=1300, title_text=\"Daily Female Births Prediction\")\n",
        "\n",
        "    # delete y axis in Trend & Seasonality\n",
        "    fig.update_yaxes(showticklabels=False, row=1,col=2)\n",
        "    fig.update_yaxes(showticklabels=False, row=2,col=2)\n",
        "\n",
        "    fig.update_xaxes(showline=True, linewidth=1, linecolor='black', mirror=True) # 테두리\n",
        "    fig.update_yaxes(showline=True, linewidth=1, linecolor='black', mirror=True) # 테두리\n",
        "    pio.write_image(fig, f'/content/drive/MyDrive/2022_confer_image/Bench/Birth/nbeats_bench_prediction{start_num}.png', engine='kaleido')\n",
        "        \n",
        "    fig.show()"
      ],
      "metadata": {
        "id": "GBasKOf4UOTd"
      },
      "execution_count": null,
      "outputs": []
    },
    {
      "cell_type": "code",
      "source": [
        "for start_num in list(range(45, round(len(data)*2/10)-1)):\n",
        "    data_tmp = data.iloc[-start_num:][:30]\n",
        "    tmp = yscaler.transform(np.array(data_tmp['Births']).reshape(-1, 1))\n",
        "    data_tmp['Births'] = tmp\n",
        "    Y = data_tmp.iloc[:, 0].values\n",
        "    Y = torch.FloatTensor(Y)\n",
        "    Y = Y.unsqueeze(-1)\n",
        "    Y = Y.unsqueeze(0) # batch_size\n",
        "    y_pred, trend, seasonality = main(50,15,yscaler)\n",
        "    plot_prediction(y_pred, trend, seasonality, start_num)"
      ],
      "metadata": {
        "id": "pku-Iv2y5txU"
      },
      "execution_count": null,
      "outputs": []
    },
    {
      "cell_type": "markdown",
      "source": [
        "# Sunspot Data set"
      ],
      "metadata": {
        "id": "oLLe5DFdDo-f"
      }
    },
    {
      "cell_type": "markdown",
      "source": [
        "## Data Preprocessing"
      ],
      "metadata": {
        "id": "aozc2VcqWa8-"
      }
    },
    {
      "cell_type": "code",
      "source": [
        "data = pd.read_csv('/content/drive/MyDrive/2022 컨퍼/benchmark_data/benchmark_Sunspots.csv', header=0)\n",
        "data = data[['Date', 'Sunspots']]\n",
        "data.set_index('Date', inplace=True)\n",
        "data2 = data.copy()\n",
        "data2"
      ],
      "metadata": {
        "colab": {
          "base_uri": "https://localhost:8080/",
          "height": 455
        },
        "outputId": "fd895f7a-ada7-4631-85e1-6939d9891e0c",
        "id": "p2zBrfwxD3gN"
      },
      "execution_count": null,
      "outputs": [
        {
          "output_type": "execute_result",
          "data": {
            "text/plain": [
              "         Sunspots\n",
              "Date             \n",
              "1749-01      58.0\n",
              "1749-02      62.6\n",
              "1749-03      70.0\n",
              "1749-04      55.7\n",
              "1749-05      85.0\n",
              "...           ...\n",
              "1983-08      71.8\n",
              "1983-09      50.3\n",
              "1983-10      55.8\n",
              "1983-11      33.3\n",
              "1983-12      33.4\n",
              "\n",
              "[2820 rows x 1 columns]"
            ],
            "text/html": [
              "\n",
              "  <div id=\"df-bf8b3134-f3f8-4418-aa57-ea779aed4822\">\n",
              "    <div class=\"colab-df-container\">\n",
              "      <div>\n",
              "<style scoped>\n",
              "    .dataframe tbody tr th:only-of-type {\n",
              "        vertical-align: middle;\n",
              "    }\n",
              "\n",
              "    .dataframe tbody tr th {\n",
              "        vertical-align: top;\n",
              "    }\n",
              "\n",
              "    .dataframe thead th {\n",
              "        text-align: right;\n",
              "    }\n",
              "</style>\n",
              "<table border=\"1\" class=\"dataframe\">\n",
              "  <thead>\n",
              "    <tr style=\"text-align: right;\">\n",
              "      <th></th>\n",
              "      <th>Sunspots</th>\n",
              "    </tr>\n",
              "    <tr>\n",
              "      <th>Date</th>\n",
              "      <th></th>\n",
              "    </tr>\n",
              "  </thead>\n",
              "  <tbody>\n",
              "    <tr>\n",
              "      <th>1749-01</th>\n",
              "      <td>58.0</td>\n",
              "    </tr>\n",
              "    <tr>\n",
              "      <th>1749-02</th>\n",
              "      <td>62.6</td>\n",
              "    </tr>\n",
              "    <tr>\n",
              "      <th>1749-03</th>\n",
              "      <td>70.0</td>\n",
              "    </tr>\n",
              "    <tr>\n",
              "      <th>1749-04</th>\n",
              "      <td>55.7</td>\n",
              "    </tr>\n",
              "    <tr>\n",
              "      <th>1749-05</th>\n",
              "      <td>85.0</td>\n",
              "    </tr>\n",
              "    <tr>\n",
              "      <th>...</th>\n",
              "      <td>...</td>\n",
              "    </tr>\n",
              "    <tr>\n",
              "      <th>1983-08</th>\n",
              "      <td>71.8</td>\n",
              "    </tr>\n",
              "    <tr>\n",
              "      <th>1983-09</th>\n",
              "      <td>50.3</td>\n",
              "    </tr>\n",
              "    <tr>\n",
              "      <th>1983-10</th>\n",
              "      <td>55.8</td>\n",
              "    </tr>\n",
              "    <tr>\n",
              "      <th>1983-11</th>\n",
              "      <td>33.3</td>\n",
              "    </tr>\n",
              "    <tr>\n",
              "      <th>1983-12</th>\n",
              "      <td>33.4</td>\n",
              "    </tr>\n",
              "  </tbody>\n",
              "</table>\n",
              "<p>2820 rows × 1 columns</p>\n",
              "</div>\n",
              "      <button class=\"colab-df-convert\" onclick=\"convertToInteractive('df-bf8b3134-f3f8-4418-aa57-ea779aed4822')\"\n",
              "              title=\"Convert this dataframe to an interactive table.\"\n",
              "              style=\"display:none;\">\n",
              "        \n",
              "  <svg xmlns=\"http://www.w3.org/2000/svg\" height=\"24px\"viewBox=\"0 0 24 24\"\n",
              "       width=\"24px\">\n",
              "    <path d=\"M0 0h24v24H0V0z\" fill=\"none\"/>\n",
              "    <path d=\"M18.56 5.44l.94 2.06.94-2.06 2.06-.94-2.06-.94-.94-2.06-.94 2.06-2.06.94zm-11 1L8.5 8.5l.94-2.06 2.06-.94-2.06-.94L8.5 2.5l-.94 2.06-2.06.94zm10 10l.94 2.06.94-2.06 2.06-.94-2.06-.94-.94-2.06-.94 2.06-2.06.94z\"/><path d=\"M17.41 7.96l-1.37-1.37c-.4-.4-.92-.59-1.43-.59-.52 0-1.04.2-1.43.59L10.3 9.45l-7.72 7.72c-.78.78-.78 2.05 0 2.83L4 21.41c.39.39.9.59 1.41.59.51 0 1.02-.2 1.41-.59l7.78-7.78 2.81-2.81c.8-.78.8-2.07 0-2.86zM5.41 20L4 18.59l7.72-7.72 1.47 1.35L5.41 20z\"/>\n",
              "  </svg>\n",
              "      </button>\n",
              "      \n",
              "  <style>\n",
              "    .colab-df-container {\n",
              "      display:flex;\n",
              "      flex-wrap:wrap;\n",
              "      gap: 12px;\n",
              "    }\n",
              "\n",
              "    .colab-df-convert {\n",
              "      background-color: #E8F0FE;\n",
              "      border: none;\n",
              "      border-radius: 50%;\n",
              "      cursor: pointer;\n",
              "      display: none;\n",
              "      fill: #1967D2;\n",
              "      height: 32px;\n",
              "      padding: 0 0 0 0;\n",
              "      width: 32px;\n",
              "    }\n",
              "\n",
              "    .colab-df-convert:hover {\n",
              "      background-color: #E2EBFA;\n",
              "      box-shadow: 0px 1px 2px rgba(60, 64, 67, 0.3), 0px 1px 3px 1px rgba(60, 64, 67, 0.15);\n",
              "      fill: #174EA6;\n",
              "    }\n",
              "\n",
              "    [theme=dark] .colab-df-convert {\n",
              "      background-color: #3B4455;\n",
              "      fill: #D2E3FC;\n",
              "    }\n",
              "\n",
              "    [theme=dark] .colab-df-convert:hover {\n",
              "      background-color: #434B5C;\n",
              "      box-shadow: 0px 1px 3px 1px rgba(0, 0, 0, 0.15);\n",
              "      filter: drop-shadow(0px 1px 2px rgba(0, 0, 0, 0.3));\n",
              "      fill: #FFFFFF;\n",
              "    }\n",
              "  </style>\n",
              "\n",
              "      <script>\n",
              "        const buttonEl =\n",
              "          document.querySelector('#df-bf8b3134-f3f8-4418-aa57-ea779aed4822 button.colab-df-convert');\n",
              "        buttonEl.style.display =\n",
              "          google.colab.kernel.accessAllowed ? 'block' : 'none';\n",
              "\n",
              "        async function convertToInteractive(key) {\n",
              "          const element = document.querySelector('#df-bf8b3134-f3f8-4418-aa57-ea779aed4822');\n",
              "          const dataTable =\n",
              "            await google.colab.kernel.invokeFunction('convertToInteractive',\n",
              "                                                     [key], {});\n",
              "          if (!dataTable) return;\n",
              "\n",
              "          const docLinkHtml = 'Like what you see? Visit the ' +\n",
              "            '<a target=\"_blank\" href=https://colab.research.google.com/notebooks/data_table.ipynb>data table notebook</a>'\n",
              "            + ' to learn more about interactive tables.';\n",
              "          element.innerHTML = '';\n",
              "          dataTable['output_type'] = 'display_data';\n",
              "          await google.colab.output.renderOutput(dataTable, element);\n",
              "          const docLink = document.createElement('div');\n",
              "          docLink.innerHTML = docLinkHtml;\n",
              "          element.appendChild(docLink);\n",
              "        }\n",
              "      </script>\n",
              "    </div>\n",
              "  </div>\n",
              "  "
            ]
          },
          "metadata": {},
          "execution_count": 26
        }
      ]
    },
    {
      "cell_type": "markdown",
      "source": [
        "## Load Scaler & Model"
      ],
      "metadata": {
        "id": "pFIwkozfWa8_"
      }
    },
    {
      "cell_type": "code",
      "source": [
        "window_size = 60\n",
        "yscaler2 = pickle.load(open('/content/drive/Shareddrives/[투빅스] 16기 & 17기 시계열 컨퍼런스/예측/Nbeats_benchmark/Sunspots/scaler.pkl', 'rb'))"
      ],
      "metadata": {
        "colab": {
          "base_uri": "https://localhost:8080/"
        },
        "outputId": "f95200b3-a682-4438-844c-8a65351ab072",
        "id": "Dw8ubFTOD3gM"
      },
      "execution_count": null,
      "outputs": [
        {
          "output_type": "stream",
          "name": "stderr",
          "text": [
            "/usr/local/lib/python3.7/dist-packages/sklearn/base.py:338: UserWarning:\n",
            "\n",
            "Trying to unpickle estimator StandardScaler from version 1.1.1 when using version 1.0.2. This might lead to breaking code or invalid results. Use at your own risk. For more info please refer to:\n",
            "https://scikit-learn.org/stable/modules/model_persistence.html#security-maintainability-limitations\n",
            "\n"
          ]
        }
      ]
    },
    {
      "cell_type": "code",
      "source": [
        "model2 = NBeatsNet(stack_types=(NBeatsNet.TREND_BLOCK, NBeatsNet.SEASONALITY_BLOCK),\n",
        "                    forecast_length=30,\n",
        "                    backcast_length=60,\n",
        "                    hidden_layer_units=128,\n",
        "                    )\n",
        "model2.load_state_dict(torch.load('/content/drive/Shareddrives/[투빅스] 16기 & 17기 시계열 컨퍼런스/예측/Nbeats_benchmark/Sunspots/model.pth', map_location='cpu'))"
      ],
      "metadata": {
        "colab": {
          "base_uri": "https://localhost:8080/"
        },
        "outputId": "9a4030f1-2b9d-4e17-f5fa-b6c3a2fef292",
        "id": "5zaQ_o6vD3gO"
      },
      "execution_count": null,
      "outputs": [
        {
          "output_type": "stream",
          "name": "stdout",
          "text": [
            "| N-Beats\n",
            "| --  Stack Trend (#0) (share_weights_in_stack=False)\n",
            "     | -- TrendBlock(units=128, thetas_dim=4, backcast_length=60, forecast_length=30, share_thetas=True) at @140655456821584\n",
            "     | -- TrendBlock(units=128, thetas_dim=4, backcast_length=60, forecast_length=30, share_thetas=True) at @140655444359824\n",
            "     | -- TrendBlock(units=128, thetas_dim=4, backcast_length=60, forecast_length=30, share_thetas=True) at @140655443222288\n",
            "| --  Stack Seasonality (#1) (share_weights_in_stack=False)\n",
            "     | -- SeasonalityBlock(units=128, thetas_dim=30, backcast_length=60, forecast_length=30, share_thetas=True) at @140655443218704\n",
            "     | -- SeasonalityBlock(units=128, thetas_dim=30, backcast_length=60, forecast_length=30, share_thetas=True) at @140655457504592\n",
            "     | -- SeasonalityBlock(units=128, thetas_dim=30, backcast_length=60, forecast_length=30, share_thetas=True) at @140655448782032\n"
          ]
        },
        {
          "output_type": "execute_result",
          "data": {
            "text/plain": [
              "<All keys matched successfully>"
            ]
          },
          "metadata": {},
          "execution_count": 28
        }
      ]
    },
    {
      "cell_type": "markdown",
      "source": [
        "### Predict"
      ],
      "metadata": {
        "id": "ImRVFhY4D3gO"
      }
    },
    {
      "cell_type": "code",
      "source": [
        "def main2(sample_size, prediction_size, yscaler):\n",
        "    y_pred = np.zeros((sample_size, prediction_size))\n",
        "    trend = np.zeros((sample_size, prediction_size))\n",
        "    seasonality = np.zeros((sample_size, prediction_size))\n",
        "    for i in range(sample_size):\n",
        "        backcast, pred, trend_forecast, seasonal_forecast = model2(Y)\n",
        "        pred = pred.detach().cpu().numpy()\n",
        "        trend_forecast = trend_forecast.detach().cpu().numpy()\n",
        "        seasonal_forecast = seasonal_forecast.detach().cpu().numpy()\n",
        "\n",
        "        y_pred[i,:] = yscaler.inverse_transform(pred)\n",
        "        trend[i,:] = yscaler.inverse_transform(trend_forecast)\n",
        "        seasonality[i,:] = y_pred[i,:] - trend[i,:]\n",
        "    return y_pred, trend, seasonality"
      ],
      "metadata": {
        "id": "ushh8rxNaFSD"
      },
      "execution_count": null,
      "outputs": []
    },
    {
      "cell_type": "code",
      "source": [
        "def plot_prediction2(y_pred, trend, seasonality, start_num):\n",
        "    fig = make_subplots(\n",
        "    subplot_titles=['True Vs Predicted','Trend','Seasonality'],\n",
        "    rows=2, cols=2,\n",
        "    vertical_spacing=0.15,\n",
        "    horizontal_spacing=0.025,\n",
        "    column_widths=[0.9, 0.6],\n",
        "    row_heights=[0.8, 0.8],\n",
        "    specs=[[{\"rowspan\": 2}, {}], [None, {}]])\n",
        "            \n",
        "    # confidence interval\n",
        "    pred_mean, pred_min_interval, pred_max_interval = confidence_interval(y_pred, 0.01)\n",
        "    trend_mean, trend_min_interval, trend_max_interval = confidence_interval(trend, 0.01)\n",
        "    seasonal_mean, seasonal_min_interval, seasonal_max_interval = confidence_interval(seasonality, 0.01)\n",
        "            \n",
        "    # plot(1,1) - prediction vs real_value\n",
        "    ## CI\n",
        "    fig.add_trace(go.Scatter(name = 'Lower Bound',\n",
        "                             x = pd.period_range(start = data_tmp['Sunspots'].index[-1], end = None, periods = 31, freq = 'M').to_timestamp(),\n",
        "                             y = np.concatenate([np.array(data.iloc[-start_num:, :]).flatten()[59].reshape(-1), pred_max_interval]),\n",
        "                             mode = 'lines',\n",
        "                             marker = dict(color=\"rgb(179,226,205)\"),\n",
        "                             line = dict(width=0),\n",
        "                             showlegend = False), row=1,col=1)\n",
        "    fig.add_trace(go.Scatter(name = 'Confidence Interval',\n",
        "                             x = pd.period_range(start = data_tmp['Sunspots'].index[-1], end = None, periods = 31, freq = 'M').to_timestamp(),\n",
        "                             y = np.concatenate([np.array(data.iloc[-start_num:, :]).flatten()[59].reshape(-1), pred_min_interval]),\n",
        "                             marker = dict(color=\"rgb(179,226,205)\"),\n",
        "                             line = dict(width=0),\n",
        "                             mode = 'lines',\n",
        "                             fillcolor = 'rgba(179,226,205,0.6)',\n",
        "                             fill = 'tonexty',\n",
        "                             showlegend = True), row=1,col=1)\n",
        "    ## mean value\n",
        "    fig.add_trace(go.Scatter(x = pd.period_range(start = data_tmp['Sunspots'].index[0], end = None, periods = 90, freq = 'M').to_timestamp(),\n",
        "                             y = np.array(data.iloc[-start_num:, :]).flatten(), \n",
        "                             name = \"Real value\", line=dict(color=\"#636EFA\")), row=1,col=1)\n",
        "    fig.add_trace(go.Scatter(x = pd.period_range(start = data_tmp['Sunspots'].index[-1], end = None, periods = 31, freq = 'M').to_timestamp(), \n",
        "                             y = np.concatenate([np.array(data.iloc[-start_num:, :]).flatten()[59].reshape(-1), pred_mean]), \n",
        "                             name = \"Prediction average\", line=dict(color=\"red\")), row=1,col=1)\n",
        "            \n",
        "    # plot(1,2) - trend\n",
        "    ## CI\n",
        "    fig.add_trace(go.Scatter(name = 'Lower Bound',\n",
        "                             x = pd.period_range(start = data_tmp['Sunspots'].index[-1], end = None, periods = 31, freq = 'M').to_timestamp()[1:],\n",
        "                             y = trend_max_interval,\n",
        "                             mode = 'lines',\n",
        "                             marker = dict(color=\"rgb(179,226,205)\"),\n",
        "                             line = dict(width=0),\n",
        "                             showlegend = False), row=1,col=2)\n",
        "    fig.add_trace(go.Scatter(name = 'Upper Bound',\n",
        "                             x = pd.period_range(start = data_tmp['Sunspots'].index[-1], end = None, periods = 31, freq = 'M').to_timestamp()[1:],\n",
        "                             y = trend_min_interval,\n",
        "                             marker = dict(color=\"rgb(179,226,205)\"),\n",
        "                             line = dict(width=0),\n",
        "                             mode = 'lines',\n",
        "                             fillcolor = 'rgba(179,226,205,0.6)',\n",
        "                             fill = 'tonexty',\n",
        "                             showlegend = False), row=1,col=2)\n",
        "    ## mean value\n",
        "    fig.add_trace(go.Scatter(x = pd.period_range(start = data_tmp['Sunspots'].index[-1], end = None, periods = 31, freq = 'M').to_timestamp()[1:], \n",
        "                             y = trend_mean, name = \"Trend average\", line=dict(color=\"red\"), showlegend = False), row=1,col=2)\n",
        "            \n",
        "    # plot(2,2) - seasonality\n",
        "    ## CI\n",
        "    fig.add_trace(go.Scatter(name = 'Lower Bound',\n",
        "                             x = pd.period_range(start = data_tmp['Sunspots'].index[-1], end = None, periods = 31, freq = 'M').to_timestamp()[1:],\n",
        "                             y = seasonal_max_interval,\n",
        "                             mode = 'lines',\n",
        "                             marker = dict(color=\"rgb(179,226,205)\"),\n",
        "                             line = dict(width=0),\n",
        "                             showlegend = False), row=2,col=2)\n",
        "    fig.add_trace(go.Scatter(name = 'Upper Bound',\n",
        "                             x = pd.period_range(start = data_tmp['Sunspots'].index[-1], end = None, periods = 31, freq = 'M').to_timestamp()[1:],\n",
        "                             y = seasonal_min_interval,\n",
        "                             marker = dict(color=\"rgb(179,226,205)\"),\n",
        "                             line = dict(width=0),\n",
        "                             mode = 'lines',\n",
        "                             fillcolor = 'rgba(179,226,205,0.6)',\n",
        "                             fill = 'tonexty',\n",
        "                             showlegend = False), row=2,col=2)\n",
        "    ## mean value\n",
        "    fig.add_trace(go.Scatter(x = pd.period_range(start = data_tmp['Sunspots'].index[-1], end = None, periods = 31, freq = 'M').to_timestamp()[1:], \n",
        "                             y = seasonal_mean, name = \"Seasonality average\", line=dict(color=\"red\"), showlegend = False), row=2,col=2)\n",
        "    # dash line\n",
        "    full_fig = fig.full_figure_for_development()\n",
        "    fig.add_shape(type=\"line\", xref='x', yref='paper',\n",
        "                  x0=list(data_tmp['Sunspots'].index)[-1], y0 = full_fig.layout.yaxis.range[0],\n",
        "                  x1=list(data_tmp['Sunspots'].index)[-1], y1 = full_fig.layout.yaxis.range[1],\n",
        "                  line=dict(color=\"black\", width=1, dash=\"dash\"),row=1,col=1)\n",
        "\n",
        "    fig.update_layout(height=600, width=1300, title_text=\"Monthly Sunspots Prediction\")\n",
        "\n",
        "    # delete y axis in Trend & Seasonality\n",
        "    fig.update_yaxes(showticklabels=False, row=1,col=2)\n",
        "    fig.update_yaxes(showticklabels=False, row=2,col=2)\n",
        "\n",
        "    fig.update_xaxes(showline=True, linewidth=1, linecolor='black', mirror=True) # 테두리\n",
        "    fig.update_yaxes(showline=True, linewidth=1, linecolor='black', mirror=True) # 테두리\n",
        "    pio.write_image(fig, f'/content/drive/MyDrive/2022_confer_image/Bench/Sunspot/nbeats_bench_prediction{start_num}.png', engine='kaleido')\n",
        "        \n",
        "    fig.show()"
      ],
      "metadata": {
        "id": "4IXl4CbfD3gP"
      },
      "execution_count": null,
      "outputs": []
    },
    {
      "cell_type": "code",
      "source": [
        "for start_num in list(range(90, round(len(data)*2/10)-1, 80)):\n",
        "    data_tmp = data2.iloc[-start_num:][:60]\n",
        "    tmp = yscaler2.transform(np.array(data_tmp['Sunspots']).reshape(-1, 1))\n",
        "    data_tmp['Sunspots'] = tmp\n",
        "    Y = data_tmp.iloc[:, 0].values\n",
        "    Y = torch.FloatTensor(Y)\n",
        "    Y = Y.unsqueeze(-1)\n",
        "    Y = Y.unsqueeze(0) # batch_size\n",
        "    y_pred, trend, seasonality = main2(50,30,yscaler2)\n",
        "    plot_prediction2(y_pred, trend, seasonality, start_num)"
      ],
      "metadata": {
        "id": "fL1EX_pVD3gP"
      },
      "execution_count": null,
      "outputs": []
    },
    {
      "cell_type": "markdown",
      "source": [
        "# Temperature Data set"
      ],
      "metadata": {
        "id": "_CCU9yRtPyys"
      }
    },
    {
      "cell_type": "markdown",
      "source": [
        "## Data Preprocessing"
      ],
      "metadata": {
        "id": "uYf90QPqV9vk"
      }
    },
    {
      "cell_type": "code",
      "source": [
        "data = pd.read_csv('/content/drive/MyDrive/2022 컨퍼/benchmark_data/benchmark_Temp.csv', header=0)\n",
        "data = data[['Date', 'Temp']]\n",
        "data.set_index('Date', inplace=True)\n",
        "data2 = data.copy()\n",
        "data2"
      ],
      "metadata": {
        "colab": {
          "base_uri": "https://localhost:8080/",
          "height": 455
        },
        "outputId": "77572287-f33e-41e0-ec65-f6e337eec17e",
        "id": "phc7YaGVQFFi"
      },
      "execution_count": null,
      "outputs": [
        {
          "output_type": "execute_result",
          "data": {
            "text/plain": [
              "            Temp\n",
              "Date            \n",
              "1981-01-01  20.7\n",
              "1981-01-02  17.9\n",
              "1981-01-03  18.8\n",
              "1981-01-04  14.6\n",
              "1981-01-05  15.8\n",
              "...          ...\n",
              "1990-12-27  14.0\n",
              "1990-12-28  13.6\n",
              "1990-12-29  13.5\n",
              "1990-12-30  15.7\n",
              "1990-12-31  13.0\n",
              "\n",
              "[3650 rows x 1 columns]"
            ],
            "text/html": [
              "\n",
              "  <div id=\"df-19fc645d-99a0-4ad3-a3aa-ec31a3c74e9e\">\n",
              "    <div class=\"colab-df-container\">\n",
              "      <div>\n",
              "<style scoped>\n",
              "    .dataframe tbody tr th:only-of-type {\n",
              "        vertical-align: middle;\n",
              "    }\n",
              "\n",
              "    .dataframe tbody tr th {\n",
              "        vertical-align: top;\n",
              "    }\n",
              "\n",
              "    .dataframe thead th {\n",
              "        text-align: right;\n",
              "    }\n",
              "</style>\n",
              "<table border=\"1\" class=\"dataframe\">\n",
              "  <thead>\n",
              "    <tr style=\"text-align: right;\">\n",
              "      <th></th>\n",
              "      <th>Temp</th>\n",
              "    </tr>\n",
              "    <tr>\n",
              "      <th>Date</th>\n",
              "      <th></th>\n",
              "    </tr>\n",
              "  </thead>\n",
              "  <tbody>\n",
              "    <tr>\n",
              "      <th>1981-01-01</th>\n",
              "      <td>20.7</td>\n",
              "    </tr>\n",
              "    <tr>\n",
              "      <th>1981-01-02</th>\n",
              "      <td>17.9</td>\n",
              "    </tr>\n",
              "    <tr>\n",
              "      <th>1981-01-03</th>\n",
              "      <td>18.8</td>\n",
              "    </tr>\n",
              "    <tr>\n",
              "      <th>1981-01-04</th>\n",
              "      <td>14.6</td>\n",
              "    </tr>\n",
              "    <tr>\n",
              "      <th>1981-01-05</th>\n",
              "      <td>15.8</td>\n",
              "    </tr>\n",
              "    <tr>\n",
              "      <th>...</th>\n",
              "      <td>...</td>\n",
              "    </tr>\n",
              "    <tr>\n",
              "      <th>1990-12-27</th>\n",
              "      <td>14.0</td>\n",
              "    </tr>\n",
              "    <tr>\n",
              "      <th>1990-12-28</th>\n",
              "      <td>13.6</td>\n",
              "    </tr>\n",
              "    <tr>\n",
              "      <th>1990-12-29</th>\n",
              "      <td>13.5</td>\n",
              "    </tr>\n",
              "    <tr>\n",
              "      <th>1990-12-30</th>\n",
              "      <td>15.7</td>\n",
              "    </tr>\n",
              "    <tr>\n",
              "      <th>1990-12-31</th>\n",
              "      <td>13.0</td>\n",
              "    </tr>\n",
              "  </tbody>\n",
              "</table>\n",
              "<p>3650 rows × 1 columns</p>\n",
              "</div>\n",
              "      <button class=\"colab-df-convert\" onclick=\"convertToInteractive('df-19fc645d-99a0-4ad3-a3aa-ec31a3c74e9e')\"\n",
              "              title=\"Convert this dataframe to an interactive table.\"\n",
              "              style=\"display:none;\">\n",
              "        \n",
              "  <svg xmlns=\"http://www.w3.org/2000/svg\" height=\"24px\"viewBox=\"0 0 24 24\"\n",
              "       width=\"24px\">\n",
              "    <path d=\"M0 0h24v24H0V0z\" fill=\"none\"/>\n",
              "    <path d=\"M18.56 5.44l.94 2.06.94-2.06 2.06-.94-2.06-.94-.94-2.06-.94 2.06-2.06.94zm-11 1L8.5 8.5l.94-2.06 2.06-.94-2.06-.94L8.5 2.5l-.94 2.06-2.06.94zm10 10l.94 2.06.94-2.06 2.06-.94-2.06-.94-.94-2.06-.94 2.06-2.06.94z\"/><path d=\"M17.41 7.96l-1.37-1.37c-.4-.4-.92-.59-1.43-.59-.52 0-1.04.2-1.43.59L10.3 9.45l-7.72 7.72c-.78.78-.78 2.05 0 2.83L4 21.41c.39.39.9.59 1.41.59.51 0 1.02-.2 1.41-.59l7.78-7.78 2.81-2.81c.8-.78.8-2.07 0-2.86zM5.41 20L4 18.59l7.72-7.72 1.47 1.35L5.41 20z\"/>\n",
              "  </svg>\n",
              "      </button>\n",
              "      \n",
              "  <style>\n",
              "    .colab-df-container {\n",
              "      display:flex;\n",
              "      flex-wrap:wrap;\n",
              "      gap: 12px;\n",
              "    }\n",
              "\n",
              "    .colab-df-convert {\n",
              "      background-color: #E8F0FE;\n",
              "      border: none;\n",
              "      border-radius: 50%;\n",
              "      cursor: pointer;\n",
              "      display: none;\n",
              "      fill: #1967D2;\n",
              "      height: 32px;\n",
              "      padding: 0 0 0 0;\n",
              "      width: 32px;\n",
              "    }\n",
              "\n",
              "    .colab-df-convert:hover {\n",
              "      background-color: #E2EBFA;\n",
              "      box-shadow: 0px 1px 2px rgba(60, 64, 67, 0.3), 0px 1px 3px 1px rgba(60, 64, 67, 0.15);\n",
              "      fill: #174EA6;\n",
              "    }\n",
              "\n",
              "    [theme=dark] .colab-df-convert {\n",
              "      background-color: #3B4455;\n",
              "      fill: #D2E3FC;\n",
              "    }\n",
              "\n",
              "    [theme=dark] .colab-df-convert:hover {\n",
              "      background-color: #434B5C;\n",
              "      box-shadow: 0px 1px 3px 1px rgba(0, 0, 0, 0.15);\n",
              "      filter: drop-shadow(0px 1px 2px rgba(0, 0, 0, 0.3));\n",
              "      fill: #FFFFFF;\n",
              "    }\n",
              "  </style>\n",
              "\n",
              "      <script>\n",
              "        const buttonEl =\n",
              "          document.querySelector('#df-19fc645d-99a0-4ad3-a3aa-ec31a3c74e9e button.colab-df-convert');\n",
              "        buttonEl.style.display =\n",
              "          google.colab.kernel.accessAllowed ? 'block' : 'none';\n",
              "\n",
              "        async function convertToInteractive(key) {\n",
              "          const element = document.querySelector('#df-19fc645d-99a0-4ad3-a3aa-ec31a3c74e9e');\n",
              "          const dataTable =\n",
              "            await google.colab.kernel.invokeFunction('convertToInteractive',\n",
              "                                                     [key], {});\n",
              "          if (!dataTable) return;\n",
              "\n",
              "          const docLinkHtml = 'Like what you see? Visit the ' +\n",
              "            '<a target=\"_blank\" href=https://colab.research.google.com/notebooks/data_table.ipynb>data table notebook</a>'\n",
              "            + ' to learn more about interactive tables.';\n",
              "          element.innerHTML = '';\n",
              "          dataTable['output_type'] = 'display_data';\n",
              "          await google.colab.output.renderOutput(dataTable, element);\n",
              "          const docLink = document.createElement('div');\n",
              "          docLink.innerHTML = docLinkHtml;\n",
              "          element.appendChild(docLink);\n",
              "        }\n",
              "      </script>\n",
              "    </div>\n",
              "  </div>\n",
              "  "
            ]
          },
          "metadata": {},
          "execution_count": 32
        }
      ]
    },
    {
      "cell_type": "markdown",
      "source": [
        "## Load Scaler & Model"
      ],
      "metadata": {
        "id": "IlLK5LzYWRap"
      }
    },
    {
      "cell_type": "code",
      "source": [
        "window_size = 70\n",
        "yscaler3 = pickle.load(open('/content/drive/Shareddrives/[투빅스] 16기 & 17기 시계열 컨퍼런스/예측/Nbeats_benchmark/Temp/scaler.pkl', 'rb'))"
      ],
      "metadata": {
        "colab": {
          "base_uri": "https://localhost:8080/"
        },
        "outputId": "1de181a7-5cf1-40e0-e476-ab5fc97e0aa0",
        "id": "X2WGEdS6QFFi"
      },
      "execution_count": null,
      "outputs": [
        {
          "output_type": "stream",
          "name": "stderr",
          "text": [
            "/usr/local/lib/python3.7/dist-packages/sklearn/base.py:338: UserWarning:\n",
            "\n",
            "Trying to unpickle estimator StandardScaler from version 1.1.1 when using version 1.0.2. This might lead to breaking code or invalid results. Use at your own risk. For more info please refer to:\n",
            "https://scikit-learn.org/stable/modules/model_persistence.html#security-maintainability-limitations\n",
            "\n"
          ]
        }
      ]
    },
    {
      "cell_type": "code",
      "source": [
        "model3 = NBeatsNet(stack_types=(NBeatsNet.TREND_BLOCK, NBeatsNet.SEASONALITY_BLOCK),\n",
        "                    forecast_length=35,\n",
        "                    backcast_length=70,\n",
        "                    hidden_layer_units=128,\n",
        "                    )\n",
        "model3.load_state_dict(torch.load('/content/drive/Shareddrives/[투빅스] 16기 & 17기 시계열 컨퍼런스/예측/Nbeats_benchmark/Temp/model.pth', map_location='cpu'))"
      ],
      "metadata": {
        "colab": {
          "base_uri": "https://localhost:8080/"
        },
        "outputId": "d61e4d84-9ac6-420c-c3d3-5b4cae59b3c6",
        "id": "5rm54HTPQFFj"
      },
      "execution_count": null,
      "outputs": [
        {
          "output_type": "stream",
          "name": "stdout",
          "text": [
            "| N-Beats\n",
            "| --  Stack Trend (#0) (share_weights_in_stack=False)\n",
            "     | -- TrendBlock(units=128, thetas_dim=4, backcast_length=70, forecast_length=35, share_thetas=True) at @140655444999184\n",
            "     | -- TrendBlock(units=128, thetas_dim=4, backcast_length=70, forecast_length=35, share_thetas=True) at @140655444999632\n",
            "     | -- TrendBlock(units=128, thetas_dim=4, backcast_length=70, forecast_length=35, share_thetas=True) at @140655444963856\n",
            "| --  Stack Seasonality (#1) (share_weights_in_stack=False)\n",
            "     | -- SeasonalityBlock(units=128, thetas_dim=35, backcast_length=70, forecast_length=35, share_thetas=True) at @140655444999440\n",
            "     | -- SeasonalityBlock(units=128, thetas_dim=35, backcast_length=70, forecast_length=35, share_thetas=True) at @140655447178768\n",
            "     | -- SeasonalityBlock(units=128, thetas_dim=35, backcast_length=70, forecast_length=35, share_thetas=True) at @140655456823824\n"
          ]
        },
        {
          "output_type": "execute_result",
          "data": {
            "text/plain": [
              "<All keys matched successfully>"
            ]
          },
          "metadata": {},
          "execution_count": 34
        }
      ]
    },
    {
      "cell_type": "markdown",
      "source": [
        "### Predict"
      ],
      "metadata": {
        "id": "jPE3DDH1QFFj"
      }
    },
    {
      "cell_type": "code",
      "source": [
        "def main3(sample_size, prediction_size, yscaler):\n",
        "    y_pred = np.zeros((sample_size, prediction_size))\n",
        "    trend = np.zeros((sample_size, prediction_size))\n",
        "    seasonality = np.zeros((sample_size, prediction_size))\n",
        "    for i in range(sample_size):\n",
        "        backcast, pred, trend_forecast, seasonal_forecast = model3(Y)\n",
        "        pred = pred.detach().cpu().numpy()\n",
        "        trend_forecast = trend_forecast.detach().cpu().numpy()\n",
        "        seasonal_forecast = seasonal_forecast.detach().cpu().numpy()\n",
        "\n",
        "        y_pred[i,:] = yscaler.inverse_transform(pred)\n",
        "        trend[i,:] = yscaler.inverse_transform(trend_forecast)\n",
        "        seasonality[i,:] = y_pred[i,:] - trend[i,:]\n",
        "    return y_pred, trend, seasonality"
      ],
      "metadata": {
        "id": "A45XUq2rbq9Y"
      },
      "execution_count": null,
      "outputs": []
    },
    {
      "cell_type": "code",
      "source": [
        "def plot_prediction3(y_pred, trend, seasonality, start_num):\n",
        "    fig = make_subplots(\n",
        "    subplot_titles=['True Vs Predicted','Trend','Seasonality'],\n",
        "    rows=2, cols=2,\n",
        "    vertical_spacing=0.15,\n",
        "    horizontal_spacing=0.025,\n",
        "    column_widths=[0.9, 0.6],\n",
        "    row_heights=[0.8, 0.8],\n",
        "    specs=[[{\"rowspan\": 2}, {}], [None, {}]])\n",
        "            \n",
        "    # confidence interval\n",
        "    pred_mean, pred_min_interval, pred_max_interval = confidence_interval(y_pred, 0.01)\n",
        "    trend_mean, trend_min_interval, trend_max_interval = confidence_interval(trend, 0.01)\n",
        "    seasonal_mean, seasonal_min_interval, seasonal_max_interval = confidence_interval(seasonality, 0.01)\n",
        "\n",
        "    # plot(1,1) - prediction vs real_value\n",
        "    ## CI\n",
        "    fig.add_trace(go.Scatter(name = 'Lower Bound',\n",
        "                             x = pd.period_range(start = data_tmp['Temp'].index[-1], end = None, periods = 36, freq = 'D').to_timestamp(),\n",
        "                             y = np.concatenate([np.array(data.iloc[-(start_num):, :]).flatten()[69].reshape(-1), pred_max_interval]),\n",
        "                             mode = 'lines',\n",
        "                             marker = dict(color=\"rgb(179,226,205)\"),\n",
        "                             line = dict(width=0),\n",
        "                             showlegend = False), row=1,col=1)\n",
        "    fig.add_trace(go.Scatter(name = 'Confidence Interval',\n",
        "                             x = pd.period_range(start = data_tmp['Temp'].index[-1], end = None, periods = 36, freq = 'D').to_timestamp(),\n",
        "                             y = np.concatenate([np.array(data.iloc[-(start_num):, :]).flatten()[69].reshape(-1), pred_min_interval]),\n",
        "                             marker = dict(color=\"rgb(179,226,205)\"),\n",
        "                             line = dict(width=0),\n",
        "                             mode = 'lines',\n",
        "                             fillcolor = 'rgba(179,226,205,0.6)',\n",
        "                             fill = 'tonexty',\n",
        "                             showlegend = True), row=1,col=1)\n",
        "    ## mean value\n",
        "    fig.add_trace(go.Scatter(x = pd.period_range(start = data_tmp['Temp'].index[0], end = None, periods = 105, freq = 'D').to_timestamp(),\n",
        "                             y = np.array(data.iloc[-(start_num):, :]).flatten(), \n",
        "                             name = \"Real value\", line=dict(color=\"#636EFA\")), row=1,col=1)\n",
        "    fig.add_trace(go.Scatter(x = pd.period_range(start = data_tmp['Temp'].index[-1], end = None, periods = 36, freq = 'D').to_timestamp(), \n",
        "                             y = np.concatenate([np.array(data.iloc[-(start_num):, :]).flatten()[69].reshape(-1), pred_mean]), \n",
        "                             name = \"Prediction average\", line=dict(color=\"red\")), row=1,col=1)\n",
        "            \n",
        "    # plot(1,2) - trend\n",
        "    ## CI\n",
        "    fig.add_trace(go.Scatter(name = 'Lower Bound',\n",
        "                             x = pd.period_range(start = data_tmp['Temp'].index[-1], end = None, periods = 36, freq = 'D').to_timestamp()[1:],\n",
        "                             y = trend_max_interval,\n",
        "                            mode = 'lines',\n",
        "                            marker = dict(color=\"rgb(179,226,205)\"),\n",
        "                            line = dict(width=0),\n",
        "                            showlegend = False), row=1,col=2)\n",
        "    fig.add_trace(go.Scatter(name = 'Upper Bound',\n",
        "                             x = pd.period_range(start = data_tmp['Temp'].index[-1], end = None, periods = 36, freq = 'D').to_timestamp()[1:],\n",
        "                             y = trend_min_interval,\n",
        "                             marker = dict(color=\"rgb(179,226,205)\"),\n",
        "                             line = dict(width=0),\n",
        "                             mode = 'lines',\n",
        "                             fillcolor = 'rgba(179,226,205,0.6)',\n",
        "                             fill = 'tonexty',\n",
        "                             showlegend = False), row=1,col=2)\n",
        "    ## mean value\n",
        "    fig.add_trace(go.Scatter(x = pd.period_range(start = data_tmp['Temp'].index[-1], end = None, periods = 36, freq = 'D').to_timestamp()[1:], \n",
        "                             y = trend_mean, name = \"Trend average\", line=dict(color=\"red\"), showlegend = False), row=1,col=2)\n",
        "            \n",
        "    # plot(2,2) - seasonality\n",
        "    ## CI\n",
        "    fig.add_trace(go.Scatter(name = 'Lower Bound',\n",
        "                             x = pd.period_range(start = data_tmp['Temp'].index[-1], end = None, periods = 36, freq = 'D').to_timestamp()[1:],\n",
        "                             y = seasonal_max_interval,\n",
        "                             mode = 'lines',\n",
        "                             marker = dict(color=\"rgb(179,226,205)\"),\n",
        "                             line = dict(width=0),\n",
        "                             showlegend = False), row=2,col=2)\n",
        "    fig.add_trace(go.Scatter(name = 'Upper Bound',\n",
        "                             x = pd.period_range(start = data_tmp['Temp'].index[-1], end = None, periods = 36, freq = 'D').to_timestamp()[1:],\n",
        "                             y = seasonal_min_interval,\n",
        "                             marker = dict(color=\"rgb(179,226,205)\"),\n",
        "                             line = dict(width=0),\n",
        "                             mode = 'lines',\n",
        "                             fillcolor = 'rgba(179,226,205,0.6)',\n",
        "                             fill = 'tonexty',\n",
        "                             showlegend = False), row=2,col=2)\n",
        "    ## mean value\n",
        "    fig.add_trace(go.Scatter(x = pd.period_range(start = data_tmp['Temp'].index[-1], end = None, periods = 36, freq = 'D').to_timestamp()[1:], \n",
        "                             y = seasonal_mean, name = \"Seasonality average\", line=dict(color=\"red\"), showlegend = False), row=2,col=2)\n",
        "    # dash line\n",
        "    full_fig = fig.full_figure_for_development()\n",
        "    fig.add_shape(type=\"line\", xref='x', yref='paper',\n",
        "                  x0=list(data_tmp['Temp'].index)[-1], y0 = full_fig.layout.yaxis.range[0],\n",
        "                  x1=list(data_tmp['Temp'].index)[-1], y1 = full_fig.layout.yaxis.range[1],\n",
        "                  line=dict(color=\"black\", width=1, dash=\"dash\"),row=1,col=1)\n",
        "\n",
        "    fig.update_layout(height=600, width=1300, title_text=\"Minimum Daily Temperature Prediction\")\n",
        "\n",
        "    # delete y axis in Trend & Seasonality\n",
        "    fig.update_yaxes(showticklabels=False, row=1,col=2)\n",
        "    fig.update_yaxes(showticklabels=False, row=2,col=2)\n",
        "\n",
        "    fig.update_xaxes(showline=True, linewidth=1, linecolor='black', mirror=True) # 테두리\n",
        "    fig.update_yaxes(showline=True, linewidth=1, linecolor='black', mirror=True) # 테두리\n",
        "    pio.write_image(fig, f'/content/drive/MyDrive/2022_confer_image/Bench/Temperature/nbeats_bench_prediction{start_num}.png', engine='kaleido')\n",
        "        \n",
        "    fig.show()"
      ],
      "metadata": {
        "id": "OLXpt1ecQFFj"
      },
      "execution_count": null,
      "outputs": []
    },
    {
      "cell_type": "code",
      "source": [
        "for start_num in list(range(105, round(len(data)*2/10)-1, 60)):\n",
        "    data_tmp = data2.iloc[-start_num:][:70]\n",
        "    tmp = yscaler3.transform(np.array(data_tmp['Temp']).reshape(-1, 1))\n",
        "    data_tmp['Temp'] = tmp\n",
        "    Y = data_tmp.iloc[:, 0].values\n",
        "    Y = torch.FloatTensor(Y)\n",
        "    Y = Y.unsqueeze(-1)\n",
        "    Y = Y.unsqueeze(0) # batch_size\n",
        "    y_pred, trend, seasonality = main3(50,35,yscaler3)\n",
        "    plot_prediction3(y_pred, trend, seasonality, start_num)"
      ],
      "metadata": {
        "id": "VYrQx_cOQFFk"
      },
      "execution_count": null,
      "outputs": []
    }
  ]
}
